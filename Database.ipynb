{
 "cells": [
  {
   "cell_type": "code",
   "execution_count": null,
   "metadata": {},
   "outputs": [],
   "source": [
    "import Freshworks as x\n",
    "\n",
    "x.create(\"Vanshika\",50)\n",
    "x.create(\"Source\",100,3600) \n",
    "\n",
    "x.read(\"Vanshika\")\n",
    "x.read(\"Source\")\n",
    "\n",
    "x.create(\"Vanshika\",10)\n",
    "x.modify(\"Hi\",25) \n",
    "x.delete(\"Hi\")"
   ]
  },
  {
   "cell_type": "code",
   "execution_count": null,
   "metadata": {},
   "outputs": [],
   "source": [
    "t1=Thread(target=(create or read or delete),args=(key_name,value,timeout))\n",
    "t1.start()\n",
    "t1.sleep()\n",
    "t2=Thread(target=(create or read or delete),args=(key_name,value,timeout)) \n",
    "t2.start()\n",
    "t2.sleep()"
   ]
  }
 ],
 "metadata": {
  "kernelspec": {
   "display_name": "Python 3",
   "language": "python",
   "name": "python3"
  },
  "language_info": {
   "codemirror_mode": {
    "name": "ipython",
    "version": 3
   },
   "file_extension": ".py",
   "mimetype": "text/x-python",
   "name": "python",
   "nbconvert_exporter": "python",
   "pygments_lexer": "ipython3",
   "version": "3.8.3"
  }
 },
 "nbformat": 4,
 "nbformat_minor": 4
}
