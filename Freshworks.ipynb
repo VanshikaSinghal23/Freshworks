{
 "cells": [
  {
   "cell_type": "code",
   "execution_count": 1,
   "metadata": {},
   "outputs": [],
   "source": [
    "import threading \n",
    "import time"
   ]
  },
  {
   "cell_type": "code",
   "execution_count": 2,
   "metadata": {},
   "outputs": [],
   "source": [
    "d={}\n",
    "def create(key,value,timeout=0):\n",
    "    if key in d:\n",
    "        print(\"error: this key already exists\") #error message1\n",
    "    else:\n",
    "        if(key.isalpha()):\n",
    "            if len(d)<(1024*1020*1024) and value<=(16*1024*1024): #constraints for file size less than 1GB and Jasonobject value less than 16KB \n",
    "                if timeout==0:\n",
    "                    l=[value,timeout]\n",
    "                else:\n",
    "                    l=[value,time.time()+timeout]\n",
    "                if len(key)<=32: #constraints for input key_name capped at 32chars\n",
    "                    d[key]=l\n",
    "            else:\n",
    "                print(\"error: Memory limit exceeded!! \")#error message2\n",
    "        else:\n",
    "            print(\"error: Invalind key_name!! key_name must contain only alphabets and no special characters or numbers\")#error message3\n"
   ]
  },
  {
   "cell_type": "code",
   "execution_count": 3,
   "metadata": {},
   "outputs": [],
   "source": [
    "def read(key):\n",
    "    if key not in d:\n",
    "        print(\"error: given key does not exist in database. Please enter a valid key\") #error message4\n",
    "    else:\n",
    "        b=d[key]\n",
    "        if b[1]!=0:\n",
    "            if time.time()<b[1]: #comparing the present time with expiry time\n",
    "                stri=str(key)+\":\"+str(b[0]) #to return the value in the format of JasonObject i.e.,\"key_name:value\"\n",
    "                return stri\n",
    "            else:\n",
    "                print(\"error: time-to-live of\",key,\"has expired\") #error message5\n",
    "        else:\n",
    "            stri=str(key)+\":\"+str(b[0])\n",
    "            return stri"
   ]
  },
  {
   "cell_type": "code",
   "execution_count": 4,
   "metadata": {},
   "outputs": [],
   "source": [
    "def delete(key):\n",
    "    if key not in d:\n",
    "        print(\"error: given key does not exist in database. Please enter a valid key\") #error message4\n",
    "    else:\n",
    "        b=d[key]\n",
    "        if b[1]!=0:\n",
    "            if time.time()<b[1]: #comparing the current time with expiry time\n",
    "                del d[key]\n",
    "                print(\"key is successfully deleted\")\n",
    "            else:\n",
    "                print(\"error: time-to-live of\",key,\"has expired\") #error message5\n",
    "        else:\n",
    "            del d[key]\n",
    "            print(\"key is successfully deleted\")"
   ]
  },
  {
   "cell_type": "code",
   "execution_count": 5,
   "metadata": {},
   "outputs": [],
   "source": [
    "def modify(key,value):\n",
    "    b=d[key]\n",
    "    if b[1]!=0:\n",
    "        if time.time()<b[1]:\n",
    "            if key not in d:\n",
    "                print(\"error: given key does not exist in database. Please enter a valid key\") #error message6\n",
    "            else:\n",
    "                l=[]\n",
    "                l.append(value)\n",
    "                l.append(b[1])\n",
    "                d[key]=l\n",
    "        else:\n",
    "            print(\"error: time-to-live of\",key,\"has expired\") #error message5\n",
    "    else:\n",
    "        if key not in d:\n",
    "            print(\"error: given key does not exist in database. Please enter a valid key\") #error message6\n",
    "        else:\n",
    "            l=[]\n",
    "            l.append(value)\n",
    "            l.append(b[1])\n",
    "            d[key]=l"
   ]
  },
  {
   "cell_type": "code",
   "execution_count": null,
   "metadata": {},
   "outputs": [],
   "source": []
  }
 ],
 "metadata": {
  "kernelspec": {
   "display_name": "Python 3",
   "language": "python",
   "name": "python3"
  },
  "language_info": {
   "codemirror_mode": {
    "name": "ipython",
    "version": 3
   },
   "file_extension": ".py",
   "mimetype": "text/x-python",
   "name": "python",
   "nbconvert_exporter": "python",
   "pygments_lexer": "ipython3",
   "version": "3.8.3"
  }
 },
 "nbformat": 4,
 "nbformat_minor": 4
}
